{
 "cells": [
  {
   "cell_type": "markdown",
   "metadata": {},
   "source": [
    "# **FIND CLAPS IN VIDEO**"
   ]
  },
  {
   "cell_type": "code",
   "execution_count": 1,
   "metadata": {},
   "outputs": [],
   "source": [
    "import os\n",
    "from clap_detection_methods import process_videos_in_directory, load_accelerometer_data, plot_accelerometer_data_interval, normalize_data, find_peaks_in_interval"
   ]
  },
  {
   "cell_type": "code",
   "execution_count": null,
   "metadata": {},
   "outputs": [],
   "source": [
    "directory_path = os.path.join(os.path.dirname(os.getcwd()), \"Data\\\\videos\")\n",
    "audio_output_path = os.path.join(os.path.dirname(os.getcwd()), \"Data\\\\audio\")\n",
    "clap_results = process_videos_in_directory(directory_path, num_segments= 4, audio_output_dir=audio_output_path)"
   ]
  },
  {
   "cell_type": "code",
   "execution_count": null,
   "metadata": {},
   "outputs": [],
   "source": [
    "import pandas as pd\n",
    "\n",
    "df_clap_results = pd.DataFrame(clap_results)\n",
    "df_clap_results"
   ]
  },
  {
   "cell_type": "markdown",
   "metadata": {},
   "source": [
    "# **FIND PEAKS IN ACCELERATION DATA**"
   ]
  },
  {
   "cell_type": "code",
   "execution_count": null,
   "metadata": {},
   "outputs": [],
   "source": [
    "acc_data_path = \"C:/Users/niki/Desktop/Step-counter/Data/STM2D48231610 (2024-11-28)RAW.csv\"\n",
    "sampling_frequency = 256\n",
    "cleaned_data, time_seconds = load_accelerometer_data(acc_data_path, sampling_frequency)\n",
    "\n",
    "plot_accelerometer_data_interval(cleaned_data, time_seconds, title_suffix=\"Full Duration\", plot_each_axis=False)"
   ]
  },
  {
   "cell_type": "code",
   "execution_count": null,
   "metadata": {},
   "outputs": [],
   "source": [
    "plot_accelerometer_data_interval(cleaned_data, time_seconds, start_time=600, end_time=None, title_suffix=\"Full Duration\", plot_each_axis=False)"
   ]
  },
  {
   "cell_type": "code",
   "execution_count": null,
   "metadata": {},
   "outputs": [],
   "source": [
    "plot_accelerometer_data_interval(cleaned_data, time_seconds, start_time=850, end_time=900, title_suffix=\"Full Duration\")"
   ]
  },
  {
   "cell_type": "code",
   "execution_count": 7,
   "metadata": {},
   "outputs": [],
   "source": [
    "start_time = 855\n",
    "end_time = 900"
   ]
  },
  {
   "cell_type": "code",
   "execution_count": null,
   "metadata": {},
   "outputs": [],
   "source": [
    "# Find the peaks in the interval\n",
    "normalized_data = normalize_data(cleaned_data)\n",
    "first_half_time, second_half_time, index_first_clap, index_last_clap = find_peaks_in_interval(normalized_data, time_seconds, start_time, end_time)\n",
    "\n",
    "# Print the results\n",
    "print(\"Peaks in the interval:\")\n",
    "print(f\"First Half Peak - Time: {first_half_time:.2f}\")\n",
    "print(f\"Second Half Peak - Time: {second_half_time:.2f}\")\n",
    "print(f\"First Half Peak - Index: {index_first_clap}\")\n",
    "print(f\"Second Half Peak - Index: {index_last_clap}\")\n",
    "duration = second_half_time - first_half_time\n",
    "print(f\"Total Duration: {duration:.3f}s\")"
   ]
  },
  {
   "cell_type": "markdown",
   "metadata": {},
   "source": [
    "# **SYNC DATA**\n"
   ]
  },
  {
   "cell_type": "code",
   "execution_count": null,
   "metadata": {},
   "outputs": [],
   "source": [
    "    "
   ]
  }
 ],
 "metadata": {
  "kernelspec": {
   "display_name": "Python 3",
   "language": "python",
   "name": "python3"
  },
  "language_info": {
   "codemirror_mode": {
    "name": "ipython",
    "version": 3
   },
   "file_extension": ".py",
   "mimetype": "text/x-python",
   "name": "python",
   "nbconvert_exporter": "python",
   "pygments_lexer": "ipython3",
   "version": "3.12.0"
  }
 },
 "nbformat": 4,
 "nbformat_minor": 2
}
