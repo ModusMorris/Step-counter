{
 "cells": [
  {
   "cell_type": "markdown",
   "metadata": {},
   "source": [
    "# **FIND CLAPS IN VIDEO**"
   ]
  },
  {
   "cell_type": "code",
   "execution_count": 9,
   "metadata": {},
   "outputs": [],
   "source": [
    "import os\n",
    "from clap_detection_methods import process_videos_in_directory, load_accelerometer_data, plot_accelerometer_data_interval, normalize_data, find_peaks_in_interval"
   ]
  },
  {
   "cell_type": "code",
   "execution_count": null,
   "metadata": {},
   "outputs": [],
   "source": [
    "directory_path = os.path.join(os.path.dirname(os.getcwd()), \"Data\\\\videos\\\\FK\")\n",
    "clap_results = process_videos_in_directory(directory_path, num_segments= 4)"
   ]
  },
  {
   "cell_type": "code",
   "execution_count": null,
   "metadata": {},
   "outputs": [],
   "source": [
    "import pandas as pd\n",
    "\n",
    "df_clap_results = pd.DataFrame(clap_results)\n",
    "df_clap_results"
   ]
  },
  {
   "cell_type": "markdown",
   "metadata": {},
   "source": [
    "# **FIND PEAKS IN ACCELERATION DATA**"
   ]
  },
  {
   "cell_type": "code",
   "execution_count": null,
   "metadata": {},
   "outputs": [],
   "source": [
    "acc_data_path1 = r\"C:\\Users\\niki\\Desktop\\Step-counter\\Data\\accelerometer_data\\STM2D48233516 (2025-01-16)RAW.csv\"\n",
    "acc_data_path2 = r\"C:\\Users\\niki\\Desktop\\Step-counter\\Data\\accelerometer_data\\STM2D48232122 (2025-01-16)RAW.csv\"\n",
    "sampling_frequency = 256\n",
    "cleaned_data, time_seconds = load_accelerometer_data(acc_data_path1, sampling_frequency)\n",
    "plot_accelerometer_data_interval(cleaned_data, time_seconds, title_suffix=\"Full Duration\", plot_each_axis=False)"
   ]
  },
  {
   "cell_type": "code",
   "execution_count": null,
   "metadata": {},
   "outputs": [],
   "source": [
    "start_time = 3000\n",
    "end_time = 3600\n",
    "plot_accelerometer_data_interval(cleaned_data, time_seconds, start_time=start_time, end_time=end_time, title_suffix=\"Full Duration\", plot_each_axis=False)"
   ]
  },
  {
   "cell_type": "code",
   "execution_count": null,
   "metadata": {},
   "outputs": [],
   "source": [
    "start_time = 3420\n",
    "end_time = 3460\n",
    "plot_accelerometer_data_interval(cleaned_data, time_seconds, start_time=start_time, end_time=end_time, title_suffix=\"Full Duration\", plot_each_axis=False)"
   ]
  },
  {
   "cell_type": "code",
   "execution_count": null,
   "metadata": {},
   "outputs": [],
   "source": [
    "# Find the peaks in the interval\n",
    "normalized_data = normalize_data(cleaned_data)\n",
    "first_half_time, second_half_time, index_first_clap, index_last_clap = find_peaks_in_interval(normalized_data, time_seconds, start_time, end_time)\n",
    "\n",
    "# Print the results\n",
    "print(\"Peaks in the interval:\")\n",
    "print(f\"First Half Peak - Time: {first_half_time:.2f}\")\n",
    "print(f\"Second Half Peak - Time: {second_half_time:.2f}\")\n",
    "print(f\"First Half Peak - Index: {index_first_clap}\")\n",
    "print(f\"Second Half Peak - Index: {index_last_clap}\")\n",
    "duration = second_half_time - first_half_time\n",
    "print(f\"Total Duration: {duration:.3f}s\")"
   ]
  },
  {
   "cell_type": "code",
   "execution_count": null,
   "metadata": {},
   "outputs": [],
   "source": [
    "df_clap_results"
   ]
  },
  {
   "cell_type": "code",
   "execution_count": null,
   "metadata": {},
   "outputs": [],
   "source": []
  },
  {
   "cell_type": "code",
   "execution_count": null,
   "metadata": {},
   "outputs": [],
   "source": []
  }
 ],
 "metadata": {
  "kernelspec": {
   "display_name": "Python 3",
   "language": "python",
   "name": "python3"
  },
  "language_info": {
   "codemirror_mode": {
    "name": "ipython",
    "version": 3
   },
   "file_extension": ".py",
   "mimetype": "text/x-python",
   "name": "python",
   "nbconvert_exporter": "python",
   "pygments_lexer": "ipython3",
   "version": "3.12.0"
  }
 },
 "nbformat": 4,
 "nbformat_minor": 2
}
